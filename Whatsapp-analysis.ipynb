{
 "cells": [
  {
   "cell_type": "code",
   "execution_count": null,
   "metadata": {
    "scrolled": false
   },
   "outputs": [],
   "source": [
    "import glob\n",
    "import sqlite3\n",
    "import pandas as pd\n",
    "from datetime import datetime\n",
    "import seaborn as sns\n",
    "import matplotlib.pyplot as plt\n",
    "from matplotlib import rcParams\n",
    "import numpy as np\n",
    "from textblob import TextBlob\n",
    "\n",
    "#Read data and add dates\n",
    "df = pd.read_csv('Data/msgstore.dbmessages.csv')\n",
    "df['Date'] = pd.to_datetime(df['timestamp'],unit='ms') \n",
    "\n",
    "#Display biggest chats:\n",
    "pd.DataFrame(df.groupby('key_remote_jid').size().sort_values(ascending=False).head(5))"
   ]
  },
  {
   "cell_type": "markdown",
   "metadata": {},
   "source": [
    "# Make a map of all sent coordinates"
   ]
  },
  {
   "cell_type": "code",
   "execution_count": null,
   "metadata": {},
   "outputs": [],
   "source": [
    "import gmplot\n",
    "\n",
    "def drawMap(df):\n",
    "    fileName = dir_path + 'map.html'\n",
    "\n",
    "    locFrame = df[(df.latitude != 0) | (df.longitude != 0)]\n",
    "\n",
    "    latitude_list = [] \n",
    "    longitude_list = [] \n",
    "\n",
    "    for entry in range(0, a.shape[0]):\n",
    "        latitude_list.append(locFrame.iloc[entry].latitude)\n",
    "        longitude_list.append(locFrame.iloc[entry].longitude)\n",
    "\n",
    "    gmap = gmplot.GoogleMapPlotter(latitude_list[0], longitude_list[0], 5) \n",
    "\n",
    "    gmap.scatter( latitude_list, longitude_list, '#3B0B39', size=20000, marker = True) \n",
    "    gmap.draw(fileName)\n",
    "    \n",
    "drawMap(df)"
   ]
  },
  {
   "cell_type": "markdown",
   "metadata": {},
   "source": [
    "# Plot with all messages"
   ]
  },
  {
   "cell_type": "code",
   "execution_count": null,
   "metadata": {},
   "outputs": [],
   "source": [
    "def allPlot(df, grouper):\n",
    "    times = pd.DatetimeIndex(df.Date)\n",
    "\n",
    "    grouped = df.groupby(grouper(times)).size()\n",
    "    \n",
    "    fig, ax = plt.subplots()\n",
    "    grouped.plot(kind='bar',figsize=(min(max(20, grouped.size / 2.0), 200), 5), ax=ax)\n",
    "    plt.xlabel('Date')\n",
    "    plt.ylabel('Messages')\n",
    "    \n",
    "allPlot(df, lambda times: times.dayofweek)\n",
    "allPlot(df, lambda times: [times.year, times.month])"
   ]
  },
  {
   "cell_type": "markdown",
   "metadata": {},
   "source": [
    "# Number of messages at different times"
   ]
  },
  {
   "cell_type": "code",
   "execution_count": null,
   "metadata": {
    "scrolled": false
   },
   "outputs": [],
   "source": [
    "def seperated(df, grouper, start = 0):\n",
    "    sns.set(rc={'figure.figsize':(11.7,8.27)})\n",
    "    times = pd.DatetimeIndex(df.Date)\n",
    "    \n",
    "    df['hour'] = times.hour + times.minute/60 + times.second/3600\n",
    "    df['hour'] = df['hour'] + df['hour'].apply(lambda x: 24 if x <= start else 0)\n",
    "    \n",
    "    grouped = df.groupby(grouper(times)).size()\n",
    "    grouped.plot(kind='bar', figsize=(min(max(20, grouped.size / 2.0), 200), 6))\n",
    "    plt.show()\n",
    "    \n",
    "    fig, ax = plt.subplots(figsize=(min(max(20, grouped.size / 2.0), 200), 10))\n",
    "    sns.violinplot(x=grouper(times), y=times.hour, data=df, ax=ax)\n",
    "    plt.ylim(0+start,24+start)\n",
    "    plt.ylabel('hour')\n",
    "    plt.show()\n",
    "    \n",
    "seperated(df, lambda times: times.dayofweek)\n",
    "seperated(df, lambda times: times.month)\n",
    "seperated(df, lambda times: times.year)"
   ]
  },
  {
   "cell_type": "markdown",
   "metadata": {},
   "source": [
    "# Number of messages at different times by Chat"
   ]
  },
  {
   "cell_type": "code",
   "execution_count": null,
   "metadata": {},
   "outputs": [],
   "source": [
    "def seperatedByChat(df, minimum, grouper):\n",
    "    group = df.groupby('key_remote_jid')\n",
    "    Chats = []\n",
    "    for name, frame in group:\n",
    "        Chats.append([name, frame])\n",
    "    \n",
    "    chatFrame = pd.DataFrame()\n",
    "    \n",
    "    for Chat in Chats:\n",
    "        times = pd.DatetimeIndex(Chat[1].Date)\n",
    "        groupedChat = Chat[1].groupby(grouper(times)).size()        \n",
    "        if(groupedChat.sum() >= minimum):\n",
    "            chatFrame = pd.concat([chatFrame, groupedChat], axis = 1)\n",
    "            chatFrame.columns = [Chat[0] if x==0 else x for x in chatFrame.columns]\n",
    "    chatFrame = chatFrame.fillna(0)\n",
    "    chatFrame.plot(kind='bar', stacked = True, figsize=(min(max(20, chatFrame.shape[0] / 2.0), 200), 7))\n",
    "    plt.show()\n",
    "    \n",
    "seperatedByChat(df, 20000, lambda times: times.dayofweek)\n",
    "seperatedByChat(df, 20000, lambda times: times.month)\n",
    "seperatedByChat(df, 20000, lambda times: times.year)\n",
    "seperatedByChat(df, 20000, lambda times: [times.year, times.month])"
   ]
  },
  {
   "cell_type": "markdown",
   "metadata": {},
   "source": [
    "# Every message as a point showing day and exact time"
   ]
  },
  {
   "cell_type": "code",
   "execution_count": null,
   "metadata": {},
   "outputs": [],
   "source": [
    "def dayTime(df, frac=1, startTime=None):\n",
    "    rcParams['figure.figsize'] = 450,6\n",
    "    \n",
    "    df = df[df.groupby('key_remote_jid')['key_remote_jid'].transform('size') > 30000]\n",
    "\n",
    "    reducedDf = df.sample(frac=frac).drop_duplicates().sort_index().set_index('Date')\n",
    "    times = pd.DatetimeIndex(reducedDf.index)\n",
    "    reducedDf['date'] = times.date\n",
    "    reducedDf['hour'] = times.hour + times.minute/60 + times.second/3600\n",
    "    \n",
    "    if(startTime != None):\n",
    "        reducedDf = reducedDf[startTime:]\n",
    "\n",
    "    sns.swarmplot(x='date', y='hour', data=reducedDf, hue='key_remote_jid')\n",
    "    plt.ylim(0,24)\n",
    "    plt.xticks(rotation='vertical')\n",
    "    plt.tight_layout()\n",
    "    plt.show()\n",
    "    \n",
    "dayTime(df, frac=1, startTime='1.1.2019')"
   ]
  },
  {
   "cell_type": "markdown",
   "metadata": {},
   "source": [
    "# Line graph of messages"
   ]
  },
  {
   "cell_type": "code",
   "execution_count": null,
   "metadata": {},
   "outputs": [],
   "source": [
    "def lineGraph(df, minimum, grouper):\n",
    "    group = df.groupby('key_remote_jid')\n",
    "    Chats = []\n",
    "    for name, frame in group:\n",
    "        Chats.append([name, frame])\n",
    "    \n",
    "    chatFrame = pd.DataFrame()\n",
    "    \n",
    "    for Chat in Chats:\n",
    "        times = pd.DatetimeIndex(Chat[1].Date)\n",
    "        groupedChat = Chat[1].groupby(grouper(times)).size()        \n",
    "        if(groupedChat.sum() >= minimum):\n",
    "            chatFrame = pd.concat([chatFrame, groupedChat], axis = 1)\n",
    "            chatFrame.columns = [Chat[0] if x==0 else x for x in chatFrame.columns]\n",
    "    chatFrame = chatFrame.fillna(0)\n",
    "    ax = chatFrame.plot(kind='line', figsize = (min(max(20, chatFrame.shape[0] / 10.0), 200), 5), y=chatFrame.columns)\n",
    "    ax.get_legend().remove()\n",
    "\n",
    "lineGraph(df, 20000, lambda times: [times.year, times.month])\n",
    "lineGraph(df, 20000, lambda times: [times.year, times.month, times.day])\n",
    "lineGraph(df, 20000, lambda times: [times.year, times.week])"
   ]
  },
  {
   "cell_type": "markdown",
   "metadata": {},
   "source": [
    "# Finding a specific message"
   ]
  },
  {
   "cell_type": "code",
   "execution_count": null,
   "metadata": {},
   "outputs": [],
   "source": [
    "def dayTimeMessage(df, mask, frac=1, startTime=None):\n",
    "    rcParams['figure.figsize'] = 40,6\n",
    "\n",
    "    reducedDf = df.sample(frac=frac).drop_duplicates().sort_index().set_index('Date')\n",
    "    \n",
    "    times = pd.DatetimeIndex(reducedDf.index)\n",
    "    reducedDf['date'] = times.date\n",
    "    reducedDf['hour'] = times.hour + times.minute/60 + times.second/3600\n",
    "    \n",
    "    if(startTime != None):\n",
    "        reducedDf = reducedDf[startTime:]\n",
    "        \n",
    "    reducedDf = reducedDf.loc[mask(reducedDf)]\n",
    "\n",
    "    sns.swarmplot(x='date', y='hour', data=reducedDf, hue='key_remote_jid')\n",
    "    plt.ylim(0,24)\n",
    "    plt.xticks(rotation='vertical')\n",
    "    plt.tight_layout()\n",
    "    plt.show()\n",
    "    \n",
    "mask = lambda x: x.fillna('').data.str.contains('I love you')\n",
    "dayTimeMessage(df, mask, frac=1)"
   ]
  },
  {
   "cell_type": "code",
   "execution_count": null,
   "metadata": {},
   "outputs": [],
   "source": [
    "def messageFrequency(df, mask, grouper, start = 0, startTime=None):\n",
    "    sns.set(rc={'figure.figsize':(11.7,8.27)})\n",
    "    \n",
    "    times = pd.DatetimeIndex(df.Date)\n",
    "    \n",
    "    df['date'] = times.date\n",
    "    df['time'] = times.hour + times.minute/60 + times.second/3600\n",
    "    df['time'] = df['time'] + df['time'].apply(lambda x: 24 if x <= start else 0)\n",
    "    df['hour'] = times.hour \n",
    "           \n",
    "    if(startTime != None):\n",
    "        df = df[startTime:]\n",
    "        \n",
    "    target = df.loc[mask(df)]\n",
    "    targetTimes = pd.DatetimeIndex(target.Date)\n",
    "    \n",
    "    grouped = target.groupby(grouper(targetTimes)).size() / df.groupby(grouper(times)).size() * 100\n",
    "    grouped.plot(kind='bar')\n",
    "    plt.show()\n",
    "    \n",
    "    sns.violinplot(x=grouper(times), y=times.hour, data=df)\n",
    "    plt.show()\n",
    "           \n",
    "mask = lambda x: x.fillna('').data.str.contains('I love you')\n",
    "            \n",
    "messageFrequency(df, mask, lambda times: times.dayofweek)\n",
    "messageFrequency(df, mask, lambda times: times.month)\n",
    "messageFrequency(df, mask, lambda times: times.year)\n",
    "messageFrequency(df, mask, lambda times: times.hour)"
   ]
  },
  {
   "cell_type": "code",
   "execution_count": null,
   "metadata": {
    "scrolled": false
   },
   "outputs": [],
   "source": [
    "def readTimeLine(df):\n",
    "    read = pd.DataFrame()\n",
    "    read['datesent'] = pd.to_datetime(df['receipt_server_timestamp'],unit='ms')\n",
    "    read['dateread'] = pd.to_datetime(df['read_device_timestamp'],unit='ms')\n",
    "    read['wait'] = read['dateread'] - read['datesent']\n",
    "    read.dropna(inplace = True)\n",
    "    \n",
    "    fig, ax = plt.subplots(figsize=(40, 1))\n",
    "    \n",
    "    read = read[read.datesent > pd.to_datetime('1970-12-31 23:59:59.999')]\n",
    "    read = read[((read.dateread - read.datesent) < pd.to_timedelta('25 h')) & ((read.dateread - read.datesent) > pd.to_timedelta('30 m'))]\n",
    "    \n",
    "    ax.set_xlim(read[read.datesent > pd.to_datetime('1970-12-31 23:59:59.999')].datesent.min(), read.dateread.max())\n",
    "    \n",
    "    markerline, stemline, baseline = ax.stem(read.datesent, read.wait / np.timedelta64(1, 'h'),'r', markerfmt='bx', linefmt='None')\n",
    "    plt.show()\n",
    "    \n",
    "readTimeLine(df)"
   ]
  },
  {
   "cell_type": "code",
   "execution_count": null,
   "metadata": {},
   "outputs": [],
   "source": [
    "callsRaw = pd.read_csv('Data/msgstore.dbcall_log.csv')\n",
    "\n",
    "calls = pd.DataFrame()\n",
    "\n",
    "calls['datesent'] = pd.to_datetime(callsRaw['timestamp'],unit='ms')\n",
    "calls['duration'] = pd.to_timedelta(callsRaw['duration'], unit='s')\n",
    "calls['end'] = calls['datesent'] + calls['duration']\n",
    "calls['video'] = callsRaw['video_call']\n",
    "calls['result'] = callsRaw['call_result']\n",
    "calls['person'] = callsRaw.jid_row_id\n",
    "\n",
    "calls.dropna(inplace = True)\n",
    "\n",
    "def callTimeLine(df):\n",
    "    fig, ax = plt.subplots(figsize=(25, 3))\n",
    "    \n",
    "    ax.set_xlim(df[df.datesent > pd.to_datetime('1970-12-31 23:59:59.999')].datesent.min(), df.end.max())\n",
    "    \n",
    "    video = df[(df.video == 1) & (df.result != 2)]\n",
    "    audio = df[(df.video == 0) & (df.result != 2)]\n",
    "    rejected = df[df.result == 2]\n",
    "    \n",
    "    if len(audio.index) != 0: markerline, stemline, baseline = ax.stem(audio.datesent, audio.duration/np.timedelta64(1, 'h'), 'b', markerfmt='bx', linefmt='None', label = 'Audiocalls')\n",
    "    if len(video.index) != 0: markerline, stemline, baseline = ax.stem(video.datesent, video.duration/np.timedelta64(1, 'h'), 'g', markerfmt='gx', linefmt='None', label = 'Videocalls')\n",
    "    if len(rejected.index) != 0: markerline, stemline, baseline = ax.stem(rejected.datesent, np.zeros(len(rejected.index)), 'r', markerfmt='rx', linefmt='None', label = 'Rejected calls')\n",
    "    ax.legend()\n",
    "    \n",
    "    plt.show()\n",
    "    \n",
    "callTimeLine(calls)"
   ]
  },
  {
   "cell_type": "markdown",
   "metadata": {},
   "source": [
    "# Add Semantics to a DataFrame"
   ]
  },
  {
   "cell_type": "code",
   "execution_count": null,
   "metadata": {},
   "outputs": [],
   "source": [
    "def polarity(df):\n",
    "    def textBB(string):\n",
    "        return int(TextBlob(str(string)).sentiment.subjectivity)\n",
    "    def textBA(string):\n",
    "        return int(TextBlob(str(string)).sentiment.polarity)\n",
    "        \n",
    "    vectorB = np.vectorize(textBB)\n",
    "    vectorA = np.vectorize(textBA)\n",
    "    semanticsFrame = df.copy()\n",
    "    \n",
    "    semanticsFrame['polarity'] = vectorB(semanticsFrame['data'])\n",
    "    semanticsFrame['subjectivity'] = vectorA(semanticsFrame['data'])\n",
    "    \n",
    "    return semanticsFrame\n",
    "\n",
    "semanticsFrame = polarity(df)"
   ]
  },
  {
   "cell_type": "markdown",
   "metadata": {},
   "source": [
    "# Plotting polarity against the number of messages"
   ]
  },
  {
   "cell_type": "code",
   "execution_count": null,
   "metadata": {},
   "outputs": [],
   "source": [
    "def test(aFrame, minimum):\n",
    "\n",
    "    group = aFrame.groupby('key_remote_jid')\n",
    "    Chats = []\n",
    "    for name, frame in group:\n",
    "        Chats.append([name, frame])\n",
    "\n",
    "    chatFrame = pd.DataFrame()\n",
    "    for Chat in Chats:\n",
    "\n",
    "        groupedChat = Chat[1].groupby('key_remote_jid').size()\n",
    "        groupedChat.rename(columns=['',Chat[0]])\n",
    "        if(groupedChat.sum() >= 400):\n",
    "            chatFrame = pd.concat([chatFrame, Chat[1]], axis = 0, sort=True)\n",
    "            chatFrame.columns = [Chat[0] if x==0 else x for x in chatFrame.columns]\n",
    "    chatFrame = chatFrame.fillna(0)\n",
    "    newFrame = chatFrame.drop(chatFrame.columns.difference(['polarity', 'subjectivity', 'key_remote_jid', 'key_from_me']), 1, inplace=False).copy()\n",
    "    newFrame['count'] = 1\n",
    "    newFrame = newFrame.groupby(['key_remote_jid', 'key_from_me']).sum()\n",
    "    newFrame['polarity'] = np.divide(newFrame['polarity'],newFrame['count'])\n",
    "    newFrame['subjectivity'] = newFrame['subjectivity']/newFrame['count']\n",
    "    \n",
    "    sortedFrame = newFrame[newFrame['count'] > minimum].sort_values(by='polarity', ascending = False)\n",
    "    sns.lmplot(x=\"polarity\", y=\"count\", data=sortedFrame);\n",
    "    \n",
    "test(semanticsFrame, 5000)"
   ]
  },
  {
   "cell_type": "markdown",
   "metadata": {},
   "source": [
    "# Averarge polarity of sent and received messages over time period"
   ]
  },
  {
   "cell_type": "code",
   "execution_count": null,
   "metadata": {
    "scrolled": true
   },
   "outputs": [],
   "source": [
    "def semanticsGraph(s):\n",
    "    a=s[(s.key_from_me == 1)]\n",
    "\n",
    "    times = pd.DatetimeIndex(a.Date)\n",
    "    group = a.groupby([times.year, times.month]).mean()\n",
    "    ax = group.plot(kind='line', y='polarity', color = 'green')\n",
    "\n",
    "    a=s[(s.key_from_me == 0)]\n",
    "\n",
    "    times = pd.DatetimeIndex(a.Date)\n",
    "    group = a.groupby([times.year, times.month]).mean()\n",
    "\n",
    "    group.plot(kind='line', y='polarity', ax = ax, color = 'orange')\n",
    "\n",
    "    a2=s\n",
    "\n",
    "    times = pd.DatetimeIndex(a2.Date)\n",
    "    group2 = a2.groupby([times.year, times.month]).size()\n",
    "    (group2/group2.max()*group['polarity'].max()).plot(kind='bar', figsize=(20,4))\n",
    "\n",
    "    ax.legend(['Polarity from me', 'Polarity to me', 'Messages'])\n",
    "    \n",
    "semanticsGraph(semanticsFrame)"
   ]
  }
 ],
 "metadata": {
  "kernelspec": {
   "display_name": "Python 3",
   "language": "python",
   "name": "python3"
  },
  "language_info": {
   "codemirror_mode": {
    "name": "ipython",
    "version": 3
   },
   "file_extension": ".py",
   "mimetype": "text/x-python",
   "name": "python",
   "nbconvert_exporter": "python",
   "pygments_lexer": "ipython3",
   "version": "3.7.2"
  }
 },
 "nbformat": 4,
 "nbformat_minor": 2
}
